{
 "cells": [
  {
   "cell_type": "code",
   "execution_count": 7,
   "metadata": {},
   "outputs": [],
   "source": [
    "%load_ext autoreload\n",
    "%autoreload 2\n",
    "\n",
    "import os, sys, random\n",
    "path, _ = os.path.split(os.getcwd())\n",
    "sys.path.append(path)"
   ]
  },
  {
   "cell_type": "markdown",
   "metadata": {},
   "source": [
    "# DDQN Learner"
   ]
  },
  {
   "cell_type": "markdown",
   "metadata": {},
   "source": [
    "## V1 (v1_full_04_03_18.h5) run"
   ]
  },
  {
   "cell_type": "code",
   "execution_count": 5,
   "metadata": {},
   "outputs": [],
   "source": [
    "# \"\"\" DNN Q-Learning Approximator \"\"\"\n",
    "\n",
    "\n",
    "# class DDQNLearner(Agent):\n",
    "\n",
    "#     \"\"\" Reference: https://keon.io/deep-q-learning/ \"\"\"\n",
    "\n",
    "#     def __init__(self, env):\n",
    "#         super().__init__(env)\n",
    "#         # Replay memory\n",
    "#         self.memory = list()\n",
    "#         self.max_memory = 10 ** 7  # number of previous transitions to remember\n",
    "\n",
    "#         self.gamma = 0.95  # discount rate\n",
    "#         self.epsilon = 1.0  # exploration rate\n",
    "#         self.epsilon_min = 0.01\n",
    "#         self.epsilon_decay = 0.99\n",
    "#         self.learning_rate = 0.001\n",
    "#         self.batch_size = 10**3\n",
    "#         self._model = self._build_model()\n",
    "\n",
    "#         self.timer = time.time()\n",
    "\n",
    "#     def _check_stall(self) -> None:\n",
    "#         \"\"\" Avoids stalling during training \"\"\"\n",
    "\n",
    "#         delta = time.time()\n",
    "\n",
    "#         if delta - self.timer > 20:\n",
    "#             self.env.reset()\n",
    "#             self.timer = time.time()\n",
    "#             print(\"Resetting due to stall\")\n",
    "\n",
    "#         return None\n",
    "\n",
    "#     def _huber_loss(self, y_true: float, y_pred: float) -> float:\n",
    "#         \"\"\" Compute Huber Loss \n",
    "        \n",
    "#         References: https://en.wikipedia.org/wiki/Huber_loss\n",
    "#                 https://www.tensorflow.org/api_docs/python/tf/losses/huber_loss\n",
    "#         \"\"\"\n",
    "#         return K.mean(K.sqrt(1 + K.square(y_pred - y_true)) - 1, axis=-1)\n",
    "\n",
    "#     def _build_model(self):\n",
    "#         \"\"\" Create our DNN model for Q-value approximation \"\"\"\n",
    "\n",
    "#         model = Sequential()\n",
    "\n",
    "#         model.add(Dense(12, kernel_initializer=\"normal\", input_shape=(3, 2)))\n",
    "#         model.add(Activation(\"relu\"))\n",
    "\n",
    "#         model.add(Dense(30, kernel_initializer=\"normal\"))\n",
    "#         model.add(Activation(\"relu\"))\n",
    "\n",
    "#         model.add(Dense(20, kernel_initializer=\"normal\"))\n",
    "#         model.add(Activation(\"relu\"))\n",
    "\n",
    "#         model.add(Dense(4, kernel_initializer=\"random_uniform\"))\n",
    "#         model.add(Activation(\"linear\"))\n",
    "\n",
    "#         rms = (\n",
    "#             RMSprop()\n",
    "#         )  # RMS is used since it is adaptive and our \"dataset is not fixed\"\n",
    "#         model.compile(loss=self._huber_loss, optimizer=rms)\n",
    "\n",
    "#         print(model.summary())\n",
    "\n",
    "#         return model\n",
    "\n",
    "#     def remember(self, state: State, action: str, reward: int, next_state: State):\n",
    "#         \"\"\" Push data into memory for replay later \"\"\"\n",
    "#         self.memory.append((state, action, reward, next_state))\n",
    "\n",
    "#     def get_action(self, state: State) -> str:\n",
    "#         \"\"\" Apply an espilon-greedy policy to pick next action \"\"\"\n",
    "\n",
    "#         # Helps over fitting, encourages to exploration\n",
    "#         if np.random.uniform(0, 0.8) < self.epsilon:\n",
    "#             return np.random.choice(self.env.actions)\n",
    "\n",
    "#         # Compute rewards for any posible action\n",
    "#         rewards = self._model.predict([np.array([state])], batch_size=1)\n",
    "#         idx = np.argmax(rewards[0][0])\n",
    "#         return self.env.actions[idx]\n",
    "\n",
    "#     def update(self, iterations: int) -> None:\n",
    "#         \"\"\" Experience replay \"\"\"\n",
    "\n",
    "#         # Update model in intervals\n",
    "#         if iterations > self.batch_size and iterations % self.batch_size == 0:\n",
    "\n",
    "#             # Avoids stalling\n",
    "#             self._check_stall()\n",
    "\n",
    "#             # Governs how much history is stored in memory\n",
    "#             if len(self.memory) > self.max_memory:\n",
    "#                 self.memory.pop()\n",
    "\n",
    "#             print(\"Updating replay\")\n",
    "\n",
    "#             minibatch = random.sample(self.memory, self.batch_size)\n",
    "#             for state, action, reward, next_state in minibatch:\n",
    "#                 target = self._model.predict(np.array([next_state]))\n",
    "#                 reward += self.gamma * target[0][0].max()\n",
    "\n",
    "#                 # Update action we should take, then break out of loop\n",
    "#                 for i in range(len(self.env.actions)):\n",
    "#                     if action == self.env.actions[i]:\n",
    "#                         target[0][0][i] = reward\n",
    "#                         break\n",
    "\n",
    "#                 self._model.fit(np.array([state]), target, epochs=1, verbose=0)\n",
    "\n",
    "#             if self.epsilon > self.epsilon_min:\n",
    "#                 self.epsilon *= self.epsilon_decay\n",
    "\n",
    "#     def load_model(self, path: str) -> None:\n",
    "#         \"\"\" Load a model\"\"\"\n",
    "\n",
    "#         self.model_path = path\n",
    "#         self._model.load_weights(path)\n",
    "#         print(\"Model loaded\")\n",
    "\n",
    "#     def save_model(self, path: str = \"\", epoch: int = 0) -> None:\n",
    "#         \"\"\" Save a model \"\"\"\n",
    "#         # If we are not given a path, use the same path as the one we loaded the model\n",
    "#         if not path:\n",
    "#             path = self.model_path\n",
    "\n",
    "#         # Create path with epoch number\n",
    "#         head, ext = os.path.splitext(path)\n",
    "#         path = get_model_path(f\"{head}_{epoch}\" + ext)\n",
    "#         self._model.save_weights(path)\n"
   ]
  },
  {
   "cell_type": "markdown",
   "metadata": {},
   "source": [
    "## Analysis of V1 model"
   ]
  },
  {
   "cell_type": "code",
   "execution_count": 10,
   "metadata": {},
   "outputs": [],
   "source": [
    "import pandas as pd"
   ]
  },
  {
   "cell_type": "code",
   "execution_count": 11,
   "metadata": {},
   "outputs": [],
   "source": [
    "%matplotlib inline\n",
    "import matplotlib.pyplot as plt\n",
    "\n",
    "def sxs(images):\n",
    "    plt.figure(figsize=(20, 20))\n",
    "    for i in range(len(images)):\n",
    "        images[i] = np.rot90(images[i])\n",
    "        plt.subplot(1, len(images), i+1)\n",
    "        plt.imshow(images[i], cmap='gray')\n",
    "\n",
    "    plt.tight_layout()\n",
    "    plt.show()"
   ]
  },
  {
   "cell_type": "code",
   "execution_count": 12,
   "metadata": {},
   "outputs": [],
   "source": [
    "filename = os.path.join(path, \"results/v1_full_04_03_19.csv\")"
   ]
  },
  {
   "cell_type": "code",
   "execution_count": 13,
   "metadata": {},
   "outputs": [],
   "source": [
    "df = pd.read_csv(filename)"
   ]
  },
  {
   "cell_type": "code",
   "execution_count": 15,
   "metadata": {},
   "outputs": [],
   "source": [
    "df = df.drop([\"Unnamed: 0\"], axis=1)"
   ]
  },
  {
   "cell_type": "code",
   "execution_count": 17,
   "metadata": {},
   "outputs": [],
   "source": [
    "df.columns = [\"agent\", \"opponent\"]"
   ]
  },
  {
   "cell_type": "code",
   "execution_count": 18,
   "metadata": {},
   "outputs": [
    {
     "data": {
      "text/plain": [
       "<matplotlib.axes._subplots.AxesSubplot at 0x7fed6cd9d278>"
      ]
     },
     "execution_count": 18,
     "metadata": {},
     "output_type": "execute_result"
    },
    {
     "data": {
      "text/plain": [
       "<Figure size 432x288 with 0 Axes>"
      ]
     },
     "metadata": {},
     "output_type": "display_data"
    },
    {
     "data": {
      "image/png": "[encoded data removed]",
      "text/plain": [
       "<Figure size 432x288 with 1 Axes>"
      ]
     },
     "metadata": {
      "needs_background": "light"
     },
     "output_type": "display_data"
    }
   ],
   "source": [
    "# Cumulatve sum of points during training\n",
    "plt.figure()\n",
    "df.cumsum().plot()"
   ]
  },
  {
   "cell_type": "code",
   "execution_count": null,
   "metadata": {},
   "outputs": [],
   "source": []
  }
 ],
 "metadata": {
  "kernelspec": {
   "display_name": "Python 3",
   "language": "python",
   "name": "python3"
  },
  "language_info": {
   "codemirror_mode": {
    "name": "ipython",
    "version": 3
   },
   "file_extension": ".py",
   "mimetype": "text/x-python",
   "name": "python",
   "nbconvert_exporter": "python",
   "pygments_lexer": "ipython3",
   "version": "3.6.7"
  }
 },
 "nbformat": 4,
 "nbformat_minor": 2
}
