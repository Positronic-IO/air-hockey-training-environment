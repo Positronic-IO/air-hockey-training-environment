{
 "cells": [
  {
   "cell_type": "code",
   "execution_count": 5,
   "metadata": {},
   "outputs": [
    {
     "name": "stdout",
     "output_type": "stream",
     "text": [
      "The autoreload extension is already loaded. To reload it, use:\n",
      "  %reload_ext autoreload\n"
     ]
    }
   ],
   "source": [
    "%load_ext autoreload\n",
    "%autoreload 2\n",
    "\n",
    "import os, sys, random\n",
    "path, _ = os.path.split(os.getcwd())\n",
    "sys.path.append(path)"
   ]
  },
  {
   "cell_type": "code",
   "execution_count": 2,
   "metadata": {},
   "outputs": [],
   "source": [
    "%matplotlib inline\n",
    "import matplotlib.pyplot as plt\n",
    "\n",
    "def sxs(images):\n",
    "    plt.figure(figsize=(20, 20))\n",
    "    for i in range(len(images)):\n",
    "        images[i] = np.rot90(images[i])\n",
    "        plt.subplot(1, len(images), i+1)\n",
    "        plt.imshow(images[i], cmap='gray')\n",
    "\n",
    "    plt.tight_layout()\n",
    "    plt.show()"
   ]
  },
  {
   "cell_type": "code",
   "execution_count": 3,
   "metadata": {},
   "outputs": [],
   "source": [
    "import numpy as np\n",
    "import pandas as pd"
   ]
  },
  {
   "cell_type": "code",
   "execution_count": 8,
   "metadata": {},
   "outputs": [],
   "source": [
    "# Set up environment\n",
    "\n",
    "from game import AirHockey\n",
    "env = AirHockey()"
   ]
  },
  {
   "cell_type": "code",
   "execution_count": 10,
   "metadata": {},
   "outputs": [
    {
     "data": {
      "text/plain": [
       "{'puck': (100, 100),\n",
       " 'player': (350, 240),\n",
       " 'opponent': (550, 240),\n",
       " 'reward': -10}"
      ]
     },
     "execution_count": 10,
     "metadata": {},
     "output_type": "execute_result"
    }
   ],
   "source": [
    "env.observe()"
   ]
  },
  {
   "cell_type": "code",
   "execution_count": 20,
   "metadata": {},
   "outputs": [],
   "source": [
    "env.update_state(action=(300, 300))"
   ]
  },
  {
   "cell_type": "code",
   "execution_count": 11,
   "metadata": {},
   "outputs": [],
   "source": [
    "class Player(object):\n",
    "    \n",
    "    def __init__(self, env=None):\n",
    "        \"\"\" Initialize a player for a game \"\"\"\n",
    "        \n",
    "        if env is not None:\n",
    "            self._env = env\n",
    "        else:\n",
    "            from game import AirHockey\n",
    "            self._env = AirHockey()\n",
    "            \n",
    "    def move(self, action):\n",
    "        \" Move player \"\n",
    "        self._env.update_state(action)\n",
    "        \n",
    "    def location(self):\n",
    "        return self._env.left_mallet.x, self._env.left_mallet.y\n",
    "    \n",
    "    def env(self):\n",
    "        return self._env"
   ]
  },
  {
   "cell_type": "code",
   "execution_count": 12,
   "metadata": {},
   "outputs": [],
   "source": [
    "player = Player(env)"
   ]
  },
  {
   "cell_type": "code",
   "execution_count": 35,
   "metadata": {},
   "outputs": [],
   "source": [
    "action = np.zeros(shape=(env.table_midpoints[0], env.table_size[1]))"
   ]
  },
  {
   "cell_type": "code",
   "execution_count": 31,
   "metadata": {},
   "outputs": [
    {
     "data": {
      "text/plain": [
       "399"
      ]
     },
     "execution_count": 31,
     "metadata": {},
     "output_type": "execute_result"
    }
   ],
   "source": [
    "np.argwhere(action == 1)[0][0]"
   ]
  },
  {
   "cell_type": "code",
   "execution_count": 53,
   "metadata": {},
   "outputs": [],
   "source": [
    "def make_action(position):\n",
    "    \"\"\" Convert position into state space \"\"\"\n",
    "    \n",
    "    action = np.zeros(shape=(env.table_midpoints[0], env.table_size[1]))\n",
    "    action[position[0], position[1]] = 1\n",
    "    return action"
   ]
  },
  {
   "cell_type": "code",
   "execution_count": 36,
   "metadata": {},
   "outputs": [],
   "source": [
    "action[399, 200] = 1"
   ]
  },
  {
   "cell_type": "code",
   "execution_count": 41,
   "metadata": {},
   "outputs": [],
   "source": [
    "position = (399, 200)"
   ]
  },
  {
   "cell_type": "code",
   "execution_count": 47,
   "metadata": {},
   "outputs": [],
   "source": [
    "action = create_state(position)"
   ]
  },
  {
   "cell_type": "code",
   "execution_count": 51,
   "metadata": {},
   "outputs": [
    {
     "data": {
      "text/plain": [
       "array([0., 1.])"
      ]
     },
     "execution_count": 51,
     "metadata": {},
     "output_type": "execute_result"
    }
   ],
   "source": [
    "np.unique(action)"
   ]
  },
  {
   "cell_type": "code",
   "execution_count": 48,
   "metadata": {},
   "outputs": [],
   "source": [
    "player.move(action=action)"
   ]
  },
  {
   "cell_type": "code",
   "execution_count": 49,
   "metadata": {},
   "outputs": [
    {
     "data": {
      "text/plain": [
       "(399, 200)"
      ]
     },
     "execution_count": 49,
     "metadata": {},
     "output_type": "execute_result"
    }
   ],
   "source": [
    "player.location()"
   ]
  },
  {
   "cell_type": "code",
   "execution_count": 37,
   "metadata": {},
   "outputs": [
    {
     "data": {
      "text/plain": [
       "<game.AirHockey at 0x7f42cf70ce10>"
      ]
     },
     "execution_count": 37,
     "metadata": {},
     "output_type": "execute_result"
    }
   ],
   "source": [
    "player.env()"
   ]
  },
  {
   "cell_type": "markdown",
   "metadata": {},
   "source": [
    "### Explore basic Q Learner\n",
    "https://github.com/srome/blackjacklearner/blob/master/app/qlearner.py"
   ]
  },
  {
   "cell_type": "code",
   "execution_count": 27,
   "metadata": {},
   "outputs": [],
   "source": [
    "actions = [\"U\", \"D\", \"L\", \"R\"]\n",
    "\n",
    "    \n",
    "class Learner(Player):\n",
    "        \n",
    "    def __init__(self, env):\n",
    "        super().__init__(env)\n",
    "        self._Q = {}\n",
    "        self._last_state = None\n",
    "        self._last_action = None\n",
    "        self._learning_rate = .7\n",
    "        self._discount = .9\n",
    "        self._epsilon = .9\n",
    "        self._learning = True\n",
    "\n",
    "    def reset_hand(self):\n",
    "        self._hand = []\n",
    "        self._last_state = None\n",
    "        self._last_action = None\n",
    "\n",
    "    def get_action(self, state):\n",
    "        if state in self._Q and np.random.uniform(0,1) < self._epsilon:\n",
    "            action = max(self._Q[state], key = self._Q[state].get)\n",
    "        else:\n",
    "            action = np.random.choice(actions)\n",
    "            if state not in self._Q:\n",
    "                self._Q[state] = {}\n",
    "            self._Q[state][action] = 0\n",
    "\n",
    "        self._last_state = state\n",
    "        self._last_action = action\n",
    "\n",
    "        return action\n",
    "\n",
    "    def update(self,new_state,reward):\n",
    "        if self._learning:\n",
    "            old = self._Q[self._last_state][self._last_action]\n",
    "\n",
    "            if new_state in self._Q:\n",
    "                new = self._discount * self._Q[new_state][max(self._Q[new_state], key=self._Q[new_state].get)]\n",
    "            else:\n",
    "                new = 0\n",
    "\n",
    "            self._Q[self._last_state][self._last_action] = (1-self._learning_rate)*old + self._learning_rate*(reward+new)\n",
    "    \n",
    "    def display_Q(self):\n",
    "        return self._Q"
   ]
  },
  {
   "cell_type": "code",
   "execution_count": 33,
   "metadata": {},
   "outputs": [],
   "source": [
    "from game import AirHockey\n",
    "env = AirHockey()"
   ]
  },
  {
   "cell_type": "code",
   "execution_count": 37,
   "metadata": {},
   "outputs": [
    {
     "data": {
      "text/plain": [
       "{'puck': (100, 100), 'player': (335, 235), 'opponent': (843, 84), 'reward': -1}"
      ]
     },
     "execution_count": 37,
     "metadata": {},
     "output_type": "execute_result"
    }
   ],
   "source": [
    "env.observe()"
   ]
  },
  {
   "cell_type": "code",
   "execution_count": 34,
   "metadata": {},
   "outputs": [],
   "source": [
    "learner = Learner(env)"
   ]
  },
  {
   "cell_type": "code",
   "execution_count": 65,
   "metadata": {},
   "outputs": [],
   "source": [
    "learner.move((300, 80))"
   ]
  },
  {
   "cell_type": "code",
   "execution_count": 77,
   "metadata": {},
   "outputs": [
    {
     "data": {
      "text/plain": [
       "(350, 240)"
      ]
     },
     "execution_count": 77,
     "metadata": {},
     "output_type": "execute_result"
    }
   ],
   "source": [
    "learner.location()"
   ]
  },
  {
   "cell_type": "code",
   "execution_count": 133,
   "metadata": {},
   "outputs": [],
   "source": [
    "env.reset()"
   ]
  },
  {
   "cell_type": "code",
   "execution_count": 35,
   "metadata": {},
   "outputs": [],
   "source": [
    "action = str(np.random.choice(actions))\n",
    "# type(action)\n",
    "for _ in range(1000):\n",
    "    # Update game state\n",
    "    learner.move(action)\n",
    "\n",
    "    # Observe state\n",
    "    data = env.observe()\n",
    "\n",
    "    # Determine next action\n",
    "    action = learner.get_action(data.get(\"player\"))\n",
    "\n",
    "    # Update state\n",
    "    learner.update(data.get(\"player\"), data.get(\"reward\"))"
   ]
  },
  {
   "cell_type": "code",
   "execution_count": 36,
   "metadata": {},
   "outputs": [
    {
     "data": {
      "text/plain": [
       "{(350, 239): {'U': -1.9564299999999997},\n",
       " (350, 240): {'U': -4.404181903349599, 'D': -1.3509999999999998, 'R': -0.7},\n",
       " (350, 241): {'L': -6.63299137948386, 'D': -3.5300981655099997},\n",
       " (351, 241): {'R': -6.379560623100925, 'D': -2.5194798999999994, 'L': -0.7},\n",
       " (351, 240): {'U': -2.5194798999999994},\n",
       " (352, 241): {'L': -0.7},\n",
       " (353, 241): {'L': -0.7},\n",
       " (354, 241): {'L': -0.7},\n",
       " (355, 241): {'U': -3.5300981655099997},\n",
       " (355, 242): {'U': -3.0431163069999996,\n",
       "  'D': -3.0431163069999996,\n",
       "  'R': -3.0431163069999996},\n",
       " (355, 243): {'D': -3.9829912939243,\n",
       "  'R': -3.0431163069999996,\n",
       "  'L': -2.5194798999999994},\n",
       " (354, 242): {'U': -1.9564299999999997, 'L': -1.3509999999999998},\n",
       " (354, 243): {'R': -4.404181903349599,\n",
       "  'L': -3.9829912939243,\n",
       "  'U': -1.9564299999999997},\n",
       " (353, 243): {'L': -3.0431163069999996, 'U': -2.5194798999999994},\n",
       " (356, 243): {'R': -2.5194798999999994},\n",
       " (353, 244): {'D': -2.5194798999999994},\n",
       " (354, 244): {'U': -1.9564299999999997},\n",
       " (354, 245): {'L': -3.0431163069999996},\n",
       " (355, 245): {'U': -3.0431163069999996},\n",
       " (355, 246): {'R': -2.5194798999999994, 'L': -0.7},\n",
       " (354, 246): {'R': -1.3086198999999998,\n",
       "  'U': -1.3509999999999998,\n",
       "  'D': -1.3509999999999998},\n",
       " (353, 246): {'D': -3.0431163069999996,\n",
       "  'R': -3.0431163069999996,\n",
       "  'L': -2.5194798999999994},\n",
       " (353, 245): {'U': -7.821578474937899, 'R': -0.7},\n",
       " (352, 246): {'L': -3.5300981655099997, 'D': -0.7},\n",
       " (354, 247): {'R': -3.5300981655099997},\n",
       " (353, 247): {'L': -1.3509999999999998, 'R': -1.3509999999999998},\n",
       " (352, 247): {'D': -1.3509999999999998},\n",
       " (352, 245): {'D': -4.404181903349599},\n",
       " (352, 244): {'U': -1.3509999999999998, 'D': -1.3509999999999998},\n",
       " (352, 243): {'L': -1.3509999999999998},\n",
       " (356, 246): {'L': -0.7},\n",
       " (357, 246): {'D': -1.9564299999999997},\n",
       " (357, 245): {'U': -1.3509999999999998, 'L': -0.7},\n",
       " (358, 245): {'U': -0.7},\n",
       " (358, 246): {'L': -0.7},\n",
       " (359, 246): {'U': -0.7},\n",
       " (359, 247): {'L': -0.7},\n",
       " (360, 247): {'L': -5.814037025206295},\n",
       " (361, 247): {'U': -4.404181903349599},\n",
       " (361, 248): {'R': -5.498964543232574, 'U': -1.9564299999999997},\n",
       " (360, 248): {'D': -1.3509999999999998},\n",
       " (361, 249): {'D': -1.3509999999999998},\n",
       " (349, 240): {'R': -0.7},\n",
       " (348, 240): {'U': -3.9829912939243, 'R': -3.9829912939243, 'D': -0.7},\n",
       " (348, 241): {'D': -3.9829912939243},\n",
       " (347, 240): {'L': -3.9829912939243},\n",
       " (348, 239): {'D': -0.7},\n",
       " (348, 238): {'R': -4.795889170115128},\n",
       " (347, 238): {'L': -4.404181903349599, 'U': -0.7},\n",
       " (347, 239): {'R': -0.7},\n",
       " (346, 239): {'R': -3.9829912939243},\n",
       " (345, 239): {'L': -3.5300981655099997, 'R': -0.7},\n",
       " (344, 239): {'R': -0.7},\n",
       " (343, 239): {'R': -0.7},\n",
       " (342, 239): {'R': -3.5300981655099997, 'D': -1.3509999999999998},\n",
       " (341, 239): {'L': -3.9829912939243, 'D': -3.0431163069999996},\n",
       " (342, 238): {'D': -3.9829912939243},\n",
       " (342, 237): {'R': -3.9829912939243},\n",
       " (341, 237): {'U': -3.9829912939243},\n",
       " (341, 238): {'U': -3.5300981655099997, 'L': -3.0431163069999996, 'R': -0.7},\n",
       " (340, 238): {'D': -0.7},\n",
       " (340, 237): {'D': -0.7},\n",
       " (340, 236): {'R': -0.7},\n",
       " (339, 236): {'D': -0.7},\n",
       " (339, 235): {'R': -3.5300981655099997},\n",
       " (338, 235): {'L': -3.0431163069999996, 'D': -0.7},\n",
       " (338, 234): {'R': -0.7},\n",
       " (337, 234): {'R': -0.7},\n",
       " (336, 234): {'R': -2.5194798999999994, 'U': -1.9564299999999997},\n",
       " (335, 234): {'R': -2.5194798999999994, 'L': -1.9564299999999997},\n",
       " (334, 234): {'L': -4.404181903349599,\n",
       "  'U': -0.7,\n",
       "  'R': -4.404181903349599,\n",
       "  'D': -4.404181903349599},\n",
       " (334, 235): {'U': -4.404181903349599, 'R': -3.9829912939243},\n",
       " (334, 236): {'D': -1.9564299999999997,\n",
       "  'U': -4.404181903349599,\n",
       "  'R': -2.5194798999999994,\n",
       "  'L': -1.3509999999999998},\n",
       " (334, 237): {'L': -4.404181903349599, 'D': -3.0431163069999996},\n",
       " (335, 237): {'U': -2.5194798999999994, 'L': -2.5194798999999994},\n",
       " (335, 238): {'R': -2.5194798999999994},\n",
       " (334, 238): {'D': -1.3509999999999998},\n",
       " (336, 237): {'D': -2.5194798999999994},\n",
       " (336, 236): {'R': -2.5194798999999994},\n",
       " (335, 236): {'D': -3.5300981655099997},\n",
       " (335, 235): {'R': -3.5300981655099997},\n",
       " (333, 235): {'D': -8.370427399550028},\n",
       " (333, 234): {'D': -4.404181903349599,\n",
       "  'U': -4.404181903349599,\n",
       "  'L': -2.5194798999999994},\n",
       " (333, 233): {'U': -5.814037025206295,\n",
       "  'L': -5.814037025206295,\n",
       "  'R': -3.5300981655099997},\n",
       " (334, 233): {'D': -5.814037025206295,\n",
       "  'R': -3.5300981655099997,\n",
       "  'U': -3.5300981655099997},\n",
       " (334, 232): {'L': -3.9829912939243,\n",
       "  'D': -3.5300981655099997,\n",
       "  'R': -3.5300981655099997},\n",
       " (335, 232): {'L': -6.379560623100925,\n",
       "  'R': -5.160176928207069,\n",
       "  'U': -4.404181903349599},\n",
       " (336, 232): {'U': -6.379560623100925},\n",
       " (336, 233): {'R': -2.5194798999999994},\n",
       " (335, 233): {'D': -5.498964543232574, 'R': -5.498964543232574},\n",
       " (334, 231): {'U': -4.404181903349599, 'R': -1.9564299999999997},\n",
       " (333, 232): {'L': -4.404181903349599},\n",
       " (333, 231): {'R': -1.9564299999999997},\n",
       " (332, 231): {'R': -3.5300981655099997, 'U': -1.9564299999999997},\n",
       " (331, 231): {'L': -3.5300981655099997},\n",
       " (332, 232): {'U': -1.9564299999999997},\n",
       " (332, 233): {'U': -4.795889170115128},\n",
       " (332, 234): {'U': -4.795889170115128},\n",
       " (332, 235): {'L': -4.795889170115128},\n",
       " (333, 236): {'L': -0.7},\n",
       " (336, 235): {'D': -1.9564299999999997}}"
      ]
     },
     "execution_count": 36,
     "metadata": {},
     "output_type": "execute_result"
    }
   ],
   "source": [
    "learner.display_Q()"
   ]
  }
 ],
 "metadata": {
  "kernelspec": {
   "display_name": "Python 3",
   "language": "python",
   "name": "python3"
  },
  "language_info": {
   "codemirror_mode": {
    "name": "ipython",
    "version": 3
   },
   "file_extension": ".py",
   "mimetype": "text/x-python",
   "name": "python",
   "nbconvert_exporter": "python",
   "pygments_lexer": "ipython3",
   "version": "3.6.7"
  }
 },
 "nbformat": 4,
 "nbformat_minor": 2
}
